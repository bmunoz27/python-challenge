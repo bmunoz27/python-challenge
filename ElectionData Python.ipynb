{
 "cells": [
  {
   "cell_type": "code",
   "execution_count": 44,
   "metadata": {},
   "outputs": [
    {
     "name": "stdout",
     "output_type": "stream",
     "text": [
      "Election Results\n",
      "------------------\n",
      "Total Votes: 3521001\n"
     ]
    }
   ],
   "source": [
    "import os\n",
    "import csv\n",
    "\n",
    "csvpath= os.path.join(\"..\",\"Desktop\",\"election_data.csv\")\n",
    "\n",
    "\n",
    "with open(csvpath, 'r') as csvfile:\n",
    "    csvreader = csv.reader (csvfile,delimiter =\",\")\n",
    "    header = next(csvreader)\n",
    "  \n",
    "    voters=0\n",
    "    list_candidates=[]\n",
    "    candidates=0\n",
    "   \n",
    "    for row in csvreader:\n",
    "        voters= voters +1\n",
    "        candidates=row[2]\n",
    "        \n",
    "print(\"Election Results\")\n",
    "print(\"------------------\")\n",
    "print (\"Total Votes:\", voters)"
   ]
  },
  {
   "cell_type": "code",
   "execution_count": null,
   "metadata": {},
   "outputs": [],
   "source": []
  },
  {
   "cell_type": "code",
   "execution_count": null,
   "metadata": {},
   "outputs": [],
   "source": []
  }
 ],
 "metadata": {
  "kernelspec": {
   "display_name": "Python 3",
   "language": "python",
   "name": "python3"
  },
  "language_info": {
   "codemirror_mode": {
    "name": "ipython",
    "version": 3
   },
   "file_extension": ".py",
   "mimetype": "text/x-python",
   "name": "python",
   "nbconvert_exporter": "python",
   "pygments_lexer": "ipython3",
   "version": "3.7.4"
  }
 },
 "nbformat": 4,
 "nbformat_minor": 2
}
