{
 "cells": [
  {
   "cell_type": "code",
   "execution_count": 2,
   "metadata": {},
   "outputs": [],
   "source": [
    "import os\n",
    "import csv\n",
    "\n",
    "csvpath= os.path.join(\"..\",\"Desktop\",\"budget_data.csv\")\n",
    "\n",
    "monthly_changes = []\n",
    "month_of_change=[]\n",
    "row_count = 0\n",
    "months_list=[]\n",
    "\n",
    "\n",
    "with open(csvpath, 'r') as csvfile:\n",
    "    csvreader = csv.reader (csvfile,delimiter =\",\")\n",
    "    header = next(csvreader)\n",
    "    for row in csvreader:\n",
    "        \n",
    "        profit_loss = int(row[1])\n",
    "        months_list = row[0]\n",
    "        monthly_changes.append(profit_loss)\n",
    "       "
   ]
  },
  {
   "cell_type": "code",
   "execution_count": 3,
   "metadata": {},
   "outputs": [],
   "source": [
    "monthly_sum = 0\n",
    "for change in monthly_changes:\n",
    "    monthly_sum += change\n",
    "row_count= len(monthly_changes)\n"
   ]
  },
  {
   "cell_type": "code",
   "execution_count": 4,
   "metadata": {},
   "outputs": [],
   "source": [
    "first=monthly_changes[0]\n",
    "last= monthly_changes[85]\n",
    "average_change=float((last-first)/(row_count-1))\n",
    "\n"
   ]
  },
  {
   "cell_type": "code",
   "execution_count": 6,
   "metadata": {},
   "outputs": [],
   "source": [
    "monthly_changes.sort()   \n",
    "\n",
    "positive=[]\n",
    "negative=[]\n",
    "\n",
    "for num in monthly_changes:\n",
    "    if num >= 0:\n",
    "        positive.append(num)\n",
    "    else: \n",
    "        negative.append(num)\n",
    "\n",
    "greatestincrease=[]\n",
    "greatestdecrease=[]\n",
    "\n",
    "greatestincrease= (positive[72])+ (-negative[4])\n",
    "greatestdecrease= negative[0]-positive[65]\n"
   ]
  },
  {
   "cell_type": "code",
   "execution_count": 19,
   "metadata": {},
   "outputs": [
    {
     "name": "stdout",
     "output_type": "stream",
     "text": [
      "Financial Analysis\n",
      "-----------------------\n",
      "Total Months: 86\n",
      "Total: $ 38,382,578.00\n",
      "Average Change:$ -2315.12\n",
      "Greatest Increase in Profits:$ 1922209\n",
      "Greatest Decrease in Profits:$ -2185724\n"
     ]
    }
   ],
   "source": [
    "print(\"Financial Analysis\")\n",
    "print(\"-----------------------\")\n",
    "print(\"Total Months:\", row_count)\n",
    "print(\"Total: $\",format(monthly_sum,\",.2f\"))\n",
    "print(\"Average Change:$\",round(average_change,2))\n",
    "print(\"Greatest Increase in Profits:$\", greatestincrease)\n",
    "print(\"Greatest Decrease in Profits:$\", greatestdecrease)"
   ]
  },
  {
   "cell_type": "code",
   "execution_count": null,
   "metadata": {},
   "outputs": [],
   "source": []
  }
 ],
 "metadata": {
  "kernelspec": {
   "display_name": "Python 3",
   "language": "python",
   "name": "python3"
  },
  "language_info": {
   "codemirror_mode": {
    "name": "ipython",
    "version": 3
   },
   "file_extension": ".py",
   "mimetype": "text/x-python",
   "name": "python",
   "nbconvert_exporter": "python",
   "pygments_lexer": "ipython3",
   "version": "3.7.4"
  }
 },
 "nbformat": 4,
 "nbformat_minor": 2
}
